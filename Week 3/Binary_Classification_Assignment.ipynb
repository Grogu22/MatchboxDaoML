{
 "cells": [
  {
   "cell_type": "markdown",
   "id": "02551c1b",
   "metadata": {},
   "source": [
    "Abalone dataset from the UCI ML Respository \\\n",
    "dataset details : http://archive.ics.uci.edu/ml/datasets/Abalone \\\n",
    "Kaggle Link : https://www.kaggle.com/datasets/ryanholbrook/dl-course-data?resource=download"
   ]
  },
  {
   "cell_type": "code",
   "execution_count": 1,
   "id": "eb762e04",
   "metadata": {},
   "outputs": [],
   "source": [
    "import pandas as pd\n",
    "import numpy as np\n",
    "import seaborn as sns\n",
    "from matplotlib import pyplot as plt\n",
    "from sklearn.neighbors import KNeighborsClassifier\n",
    "from sklearn.model_selection import train_test_split, GridSearchCV\n",
    "from sklearn.metrics import accuracy_score, precision_score, recall_score, f1_score"
   ]
  },
  {
   "cell_type": "code",
   "execution_count": 4,
   "id": "da1c190a",
   "metadata": {},
   "outputs": [],
   "source": [
    "data = pd.read_csv(\"abalone.csv\")"
   ]
  },
  {
   "cell_type": "markdown",
   "id": "e97a572c",
   "metadata": {},
   "source": [
    "### Dataset Exploration"
   ]
  },
  {
   "cell_type": "code",
   "execution_count": 5,
   "id": "d0b11eae",
   "metadata": {
    "scrolled": true
   },
   "outputs": [
    {
     "data": {
      "text/html": [
       "<div>\n",
       "<style scoped>\n",
       "    .dataframe tbody tr th:only-of-type {\n",
       "        vertical-align: middle;\n",
       "    }\n",
       "\n",
       "    .dataframe tbody tr th {\n",
       "        vertical-align: top;\n",
       "    }\n",
       "\n",
       "    .dataframe thead th {\n",
       "        text-align: right;\n",
       "    }\n",
       "</style>\n",
       "<table border=\"1\" class=\"dataframe\">\n",
       "  <thead>\n",
       "    <tr style=\"text-align: right;\">\n",
       "      <th></th>\n",
       "      <th>Type</th>\n",
       "      <th>LongestShell</th>\n",
       "      <th>Diameter</th>\n",
       "      <th>Height</th>\n",
       "      <th>WholeWeight</th>\n",
       "      <th>ShuckedWeight</th>\n",
       "      <th>VisceraWeight</th>\n",
       "      <th>ShellWeight</th>\n",
       "      <th>Rings</th>\n",
       "    </tr>\n",
       "  </thead>\n",
       "  <tbody>\n",
       "    <tr>\n",
       "      <th>0</th>\n",
       "      <td>M</td>\n",
       "      <td>0.455</td>\n",
       "      <td>0.365</td>\n",
       "      <td>0.095</td>\n",
       "      <td>0.5140</td>\n",
       "      <td>0.2245</td>\n",
       "      <td>0.1010</td>\n",
       "      <td>0.150</td>\n",
       "      <td>15</td>\n",
       "    </tr>\n",
       "    <tr>\n",
       "      <th>1</th>\n",
       "      <td>M</td>\n",
       "      <td>0.350</td>\n",
       "      <td>0.265</td>\n",
       "      <td>0.090</td>\n",
       "      <td>0.2255</td>\n",
       "      <td>0.0995</td>\n",
       "      <td>0.0485</td>\n",
       "      <td>0.070</td>\n",
       "      <td>7</td>\n",
       "    </tr>\n",
       "    <tr>\n",
       "      <th>2</th>\n",
       "      <td>F</td>\n",
       "      <td>0.530</td>\n",
       "      <td>0.420</td>\n",
       "      <td>0.135</td>\n",
       "      <td>0.6770</td>\n",
       "      <td>0.2565</td>\n",
       "      <td>0.1415</td>\n",
       "      <td>0.210</td>\n",
       "      <td>9</td>\n",
       "    </tr>\n",
       "    <tr>\n",
       "      <th>3</th>\n",
       "      <td>M</td>\n",
       "      <td>0.440</td>\n",
       "      <td>0.365</td>\n",
       "      <td>0.125</td>\n",
       "      <td>0.5160</td>\n",
       "      <td>0.2155</td>\n",
       "      <td>0.1140</td>\n",
       "      <td>0.155</td>\n",
       "      <td>10</td>\n",
       "    </tr>\n",
       "    <tr>\n",
       "      <th>4</th>\n",
       "      <td>I</td>\n",
       "      <td>0.330</td>\n",
       "      <td>0.255</td>\n",
       "      <td>0.080</td>\n",
       "      <td>0.2050</td>\n",
       "      <td>0.0895</td>\n",
       "      <td>0.0395</td>\n",
       "      <td>0.055</td>\n",
       "      <td>7</td>\n",
       "    </tr>\n",
       "  </tbody>\n",
       "</table>\n",
       "</div>"
      ],
      "text/plain": [
       "  Type  LongestShell  Diameter  Height  WholeWeight  ShuckedWeight  \\\n",
       "0    M         0.455     0.365   0.095       0.5140         0.2245   \n",
       "1    M         0.350     0.265   0.090       0.2255         0.0995   \n",
       "2    F         0.530     0.420   0.135       0.6770         0.2565   \n",
       "3    M         0.440     0.365   0.125       0.5160         0.2155   \n",
       "4    I         0.330     0.255   0.080       0.2050         0.0895   \n",
       "\n",
       "   VisceraWeight  ShellWeight  Rings  \n",
       "0         0.1010        0.150     15  \n",
       "1         0.0485        0.070      7  \n",
       "2         0.1415        0.210      9  \n",
       "3         0.1140        0.155     10  \n",
       "4         0.0395        0.055      7  "
      ]
     },
     "execution_count": 5,
     "metadata": {},
     "output_type": "execute_result"
    }
   ],
   "source": [
    "data.head()"
   ]
  },
  {
   "cell_type": "code",
   "execution_count": 6,
   "id": "8ce31720",
   "metadata": {},
   "outputs": [
    {
     "data": {
      "text/plain": [
       "Index(['Type', 'LongestShell', 'Diameter', 'Height', 'WholeWeight',\n",
       "       'ShuckedWeight', 'VisceraWeight', 'ShellWeight', 'Rings'],\n",
       "      dtype='object')"
      ]
     },
     "execution_count": 6,
     "metadata": {},
     "output_type": "execute_result"
    }
   ],
   "source": [
    "data.columns"
   ]
  },
  {
   "cell_type": "code",
   "execution_count": 10,
   "id": "e82d039b",
   "metadata": {},
   "outputs": [
    {
     "data": {
      "text/plain": [
       "Type             0\n",
       "LongestShell     0\n",
       "Diameter         0\n",
       "Height           0\n",
       "WholeWeight      0\n",
       "ShuckedWeight    0\n",
       "VisceraWeight    0\n",
       "ShellWeight      0\n",
       "Rings            0\n",
       "dtype: int64"
      ]
     },
     "execution_count": 10,
     "metadata": {},
     "output_type": "execute_result"
    }
   ],
   "source": [
    "data.isnull().sum(axis=0)"
   ]
  },
  {
   "cell_type": "markdown",
   "id": "98202e06",
   "metadata": {},
   "source": [
    "##### Tf!! I wasn't expecting a dataset to have no null values !!"
   ]
  },
  {
   "cell_type": "code",
   "execution_count": 11,
   "id": "49c17596",
   "metadata": {},
   "outputs": [
    {
     "name": "stdout",
     "output_type": "stream",
     "text": [
      "<class 'pandas.core.frame.DataFrame'>\n",
      "RangeIndex: 4177 entries, 0 to 4176\n",
      "Data columns (total 9 columns):\n",
      " #   Column         Non-Null Count  Dtype  \n",
      "---  ------         --------------  -----  \n",
      " 0   Type           4177 non-null   object \n",
      " 1   LongestShell   4177 non-null   float64\n",
      " 2   Diameter       4177 non-null   float64\n",
      " 3   Height         4177 non-null   float64\n",
      " 4   WholeWeight    4177 non-null   float64\n",
      " 5   ShuckedWeight  4177 non-null   float64\n",
      " 6   VisceraWeight  4177 non-null   float64\n",
      " 7   ShellWeight    4177 non-null   float64\n",
      " 8   Rings          4177 non-null   int64  \n",
      "dtypes: float64(7), int64(1), object(1)\n",
      "memory usage: 293.8+ KB\n"
     ]
    }
   ],
   "source": [
    "data.info()"
   ]
  },
  {
   "cell_type": "code",
   "execution_count": 12,
   "id": "26b244cd",
   "metadata": {},
   "outputs": [
    {
     "data": {
      "text/plain": [
       "array(['M', 'F', 'I'], dtype=object)"
      ]
     },
     "execution_count": 12,
     "metadata": {},
     "output_type": "execute_result"
    }
   ],
   "source": [
    "data['Type'].unique()"
   ]
  },
  {
   "cell_type": "code",
   "execution_count": 13,
   "id": "1744b282",
   "metadata": {},
   "outputs": [
    {
     "data": {
      "text/plain": [
       "array([15,  7,  9, 10,  8, 20, 16, 19, 14, 11, 12, 18, 13,  5,  4,  6, 21,\n",
       "       17, 22,  1,  3, 26, 23, 29,  2, 27, 25, 24], dtype=int64)"
      ]
     },
     "execution_count": 13,
     "metadata": {},
     "output_type": "execute_result"
    }
   ],
   "source": [
    "data['Rings'].unique()"
   ]
  },
  {
   "cell_type": "markdown",
   "id": "c64a02d0",
   "metadata": {},
   "source": [
    "So, we will do a a binary classification problem whether a abalone is infant or not. \\\n",
    "Infant abalones can be harvested, so we can describe this as a real-life problem where we have to determine whether an abalone is ready to be harvested or not.."
   ]
  },
  {
   "cell_type": "markdown",
   "id": "8c8df71d",
   "metadata": {},
   "source": [
    "### Data Processing"
   ]
  },
  {
   "cell_type": "code",
   "execution_count": 16,
   "id": "4e210b88",
   "metadata": {},
   "outputs": [],
   "source": [
    "data_processed = pd.get_dummies(data, columns=['Type'], drop_first = True)"
   ]
  },
  {
   "cell_type": "code",
   "execution_count": 18,
   "id": "e2ede0a0",
   "metadata": {},
   "outputs": [],
   "source": [
    "data_processed = data_processed.drop(columns=[\"Type_M\"])"
   ]
  },
  {
   "cell_type": "code",
   "execution_count": 19,
   "id": "d48c1b9b",
   "metadata": {},
   "outputs": [
    {
     "data": {
      "text/html": [
       "<div>\n",
       "<style scoped>\n",
       "    .dataframe tbody tr th:only-of-type {\n",
       "        vertical-align: middle;\n",
       "    }\n",
       "\n",
       "    .dataframe tbody tr th {\n",
       "        vertical-align: top;\n",
       "    }\n",
       "\n",
       "    .dataframe thead th {\n",
       "        text-align: right;\n",
       "    }\n",
       "</style>\n",
       "<table border=\"1\" class=\"dataframe\">\n",
       "  <thead>\n",
       "    <tr style=\"text-align: right;\">\n",
       "      <th></th>\n",
       "      <th>LongestShell</th>\n",
       "      <th>Diameter</th>\n",
       "      <th>Height</th>\n",
       "      <th>WholeWeight</th>\n",
       "      <th>ShuckedWeight</th>\n",
       "      <th>VisceraWeight</th>\n",
       "      <th>ShellWeight</th>\n",
       "      <th>Rings</th>\n",
       "      <th>Type_I</th>\n",
       "    </tr>\n",
       "  </thead>\n",
       "  <tbody>\n",
       "    <tr>\n",
       "      <th>0</th>\n",
       "      <td>0.455</td>\n",
       "      <td>0.365</td>\n",
       "      <td>0.095</td>\n",
       "      <td>0.5140</td>\n",
       "      <td>0.2245</td>\n",
       "      <td>0.1010</td>\n",
       "      <td>0.150</td>\n",
       "      <td>15</td>\n",
       "      <td>0</td>\n",
       "    </tr>\n",
       "    <tr>\n",
       "      <th>1</th>\n",
       "      <td>0.350</td>\n",
       "      <td>0.265</td>\n",
       "      <td>0.090</td>\n",
       "      <td>0.2255</td>\n",
       "      <td>0.0995</td>\n",
       "      <td>0.0485</td>\n",
       "      <td>0.070</td>\n",
       "      <td>7</td>\n",
       "      <td>0</td>\n",
       "    </tr>\n",
       "    <tr>\n",
       "      <th>2</th>\n",
       "      <td>0.530</td>\n",
       "      <td>0.420</td>\n",
       "      <td>0.135</td>\n",
       "      <td>0.6770</td>\n",
       "      <td>0.2565</td>\n",
       "      <td>0.1415</td>\n",
       "      <td>0.210</td>\n",
       "      <td>9</td>\n",
       "      <td>0</td>\n",
       "    </tr>\n",
       "    <tr>\n",
       "      <th>3</th>\n",
       "      <td>0.440</td>\n",
       "      <td>0.365</td>\n",
       "      <td>0.125</td>\n",
       "      <td>0.5160</td>\n",
       "      <td>0.2155</td>\n",
       "      <td>0.1140</td>\n",
       "      <td>0.155</td>\n",
       "      <td>10</td>\n",
       "      <td>0</td>\n",
       "    </tr>\n",
       "    <tr>\n",
       "      <th>4</th>\n",
       "      <td>0.330</td>\n",
       "      <td>0.255</td>\n",
       "      <td>0.080</td>\n",
       "      <td>0.2050</td>\n",
       "      <td>0.0895</td>\n",
       "      <td>0.0395</td>\n",
       "      <td>0.055</td>\n",
       "      <td>7</td>\n",
       "      <td>1</td>\n",
       "    </tr>\n",
       "  </tbody>\n",
       "</table>\n",
       "</div>"
      ],
      "text/plain": [
       "   LongestShell  Diameter  Height  WholeWeight  ShuckedWeight  VisceraWeight  \\\n",
       "0         0.455     0.365   0.095       0.5140         0.2245         0.1010   \n",
       "1         0.350     0.265   0.090       0.2255         0.0995         0.0485   \n",
       "2         0.530     0.420   0.135       0.6770         0.2565         0.1415   \n",
       "3         0.440     0.365   0.125       0.5160         0.2155         0.1140   \n",
       "4         0.330     0.255   0.080       0.2050         0.0895         0.0395   \n",
       "\n",
       "   ShellWeight  Rings  Type_I  \n",
       "0        0.150     15       0  \n",
       "1        0.070      7       0  \n",
       "2        0.210      9       0  \n",
       "3        0.155     10       0  \n",
       "4        0.055      7       1  "
      ]
     },
     "execution_count": 19,
     "metadata": {},
     "output_type": "execute_result"
    }
   ],
   "source": [
    "data_processed.head()"
   ]
  },
  {
   "cell_type": "code",
   "execution_count": 20,
   "id": "78bfc4df",
   "metadata": {},
   "outputs": [
    {
     "data": {
      "text/plain": [
       "1342"
      ]
     },
     "execution_count": 20,
     "metadata": {},
     "output_type": "execute_result"
    }
   ],
   "source": [
    "#So, the number of Infant abalones are 1342\n",
    "data_processed['Type_I'].value_counts()[1]"
   ]
  },
  {
   "cell_type": "markdown",
   "id": "2e12528d",
   "metadata": {},
   "source": [
    "##### as we will predict Type_I, we will drop that column "
   ]
  },
  {
   "cell_type": "code",
   "execution_count": 24,
   "id": "c7039dab",
   "metadata": {},
   "outputs": [
    {
     "data": {
      "text/plain": [
       "0       0\n",
       "1       0\n",
       "2       0\n",
       "3       0\n",
       "4       1\n",
       "       ..\n",
       "4172    0\n",
       "4173    0\n",
       "4174    0\n",
       "4175    0\n",
       "4176    0\n",
       "Name: Type_I, Length: 4177, dtype: uint8"
      ]
     },
     "execution_count": 24,
     "metadata": {},
     "output_type": "execute_result"
    }
   ],
   "source": [
    "y = data_processed['Type_I']\n",
    "y"
   ]
  },
  {
   "cell_type": "code",
   "execution_count": 28,
   "id": "85fedc2f",
   "metadata": {},
   "outputs": [
    {
     "data": {
      "text/html": [
       "<div>\n",
       "<style scoped>\n",
       "    .dataframe tbody tr th:only-of-type {\n",
       "        vertical-align: middle;\n",
       "    }\n",
       "\n",
       "    .dataframe tbody tr th {\n",
       "        vertical-align: top;\n",
       "    }\n",
       "\n",
       "    .dataframe thead th {\n",
       "        text-align: right;\n",
       "    }\n",
       "</style>\n",
       "<table border=\"1\" class=\"dataframe\">\n",
       "  <thead>\n",
       "    <tr style=\"text-align: right;\">\n",
       "      <th></th>\n",
       "      <th>LongestShell</th>\n",
       "      <th>Diameter</th>\n",
       "      <th>Height</th>\n",
       "      <th>WholeWeight</th>\n",
       "      <th>ShuckedWeight</th>\n",
       "      <th>VisceraWeight</th>\n",
       "      <th>ShellWeight</th>\n",
       "      <th>Rings</th>\n",
       "    </tr>\n",
       "  </thead>\n",
       "  <tbody>\n",
       "    <tr>\n",
       "      <th>0</th>\n",
       "      <td>0.455</td>\n",
       "      <td>0.365</td>\n",
       "      <td>0.095</td>\n",
       "      <td>0.5140</td>\n",
       "      <td>0.2245</td>\n",
       "      <td>0.1010</td>\n",
       "      <td>0.150</td>\n",
       "      <td>15</td>\n",
       "    </tr>\n",
       "    <tr>\n",
       "      <th>1</th>\n",
       "      <td>0.350</td>\n",
       "      <td>0.265</td>\n",
       "      <td>0.090</td>\n",
       "      <td>0.2255</td>\n",
       "      <td>0.0995</td>\n",
       "      <td>0.0485</td>\n",
       "      <td>0.070</td>\n",
       "      <td>7</td>\n",
       "    </tr>\n",
       "    <tr>\n",
       "      <th>2</th>\n",
       "      <td>0.530</td>\n",
       "      <td>0.420</td>\n",
       "      <td>0.135</td>\n",
       "      <td>0.6770</td>\n",
       "      <td>0.2565</td>\n",
       "      <td>0.1415</td>\n",
       "      <td>0.210</td>\n",
       "      <td>9</td>\n",
       "    </tr>\n",
       "    <tr>\n",
       "      <th>3</th>\n",
       "      <td>0.440</td>\n",
       "      <td>0.365</td>\n",
       "      <td>0.125</td>\n",
       "      <td>0.5160</td>\n",
       "      <td>0.2155</td>\n",
       "      <td>0.1140</td>\n",
       "      <td>0.155</td>\n",
       "      <td>10</td>\n",
       "    </tr>\n",
       "    <tr>\n",
       "      <th>4</th>\n",
       "      <td>0.330</td>\n",
       "      <td>0.255</td>\n",
       "      <td>0.080</td>\n",
       "      <td>0.2050</td>\n",
       "      <td>0.0895</td>\n",
       "      <td>0.0395</td>\n",
       "      <td>0.055</td>\n",
       "      <td>7</td>\n",
       "    </tr>\n",
       "  </tbody>\n",
       "</table>\n",
       "</div>"
      ],
      "text/plain": [
       "   LongestShell  Diameter  Height  WholeWeight  ShuckedWeight  VisceraWeight  \\\n",
       "0         0.455     0.365   0.095       0.5140         0.2245         0.1010   \n",
       "1         0.350     0.265   0.090       0.2255         0.0995         0.0485   \n",
       "2         0.530     0.420   0.135       0.6770         0.2565         0.1415   \n",
       "3         0.440     0.365   0.125       0.5160         0.2155         0.1140   \n",
       "4         0.330     0.255   0.080       0.2050         0.0895         0.0395   \n",
       "\n",
       "   ShellWeight  Rings  \n",
       "0        0.150     15  \n",
       "1        0.070      7  \n",
       "2        0.210      9  \n",
       "3        0.155     10  \n",
       "4        0.055      7  "
      ]
     },
     "execution_count": 28,
     "metadata": {},
     "output_type": "execute_result"
    }
   ],
   "source": [
    "data_processed.head()"
   ]
  },
  {
   "cell_type": "markdown",
   "id": "79aa506d",
   "metadata": {},
   "source": [
    "### Train-test split : "
   ]
  },
  {
   "cell_type": "code",
   "execution_count": 54,
   "id": "cea254b2",
   "metadata": {},
   "outputs": [],
   "source": [
    "from sklearn.preprocessing import MinMaxScaler, StandardScaler"
   ]
  },
  {
   "cell_type": "code",
   "execution_count": 92,
   "id": "e6f89cc9",
   "metadata": {},
   "outputs": [],
   "source": [
    "X = data_processed\n",
    "X_train, X_test, y_train, y_test = train_test_split(X, y, test_size = 0.2, random_state = 515)"
   ]
  },
  {
   "cell_type": "markdown",
   "id": "dab7e205",
   "metadata": {},
   "source": [
    "##### Checking correlation among features"
   ]
  },
  {
   "cell_type": "code",
   "execution_count": 93,
   "id": "6dde0079",
   "metadata": {},
   "outputs": [
    {
     "data": {
      "text/html": [
       "<div>\n",
       "<style scoped>\n",
       "    .dataframe tbody tr th:only-of-type {\n",
       "        vertical-align: middle;\n",
       "    }\n",
       "\n",
       "    .dataframe tbody tr th {\n",
       "        vertical-align: top;\n",
       "    }\n",
       "\n",
       "    .dataframe thead th {\n",
       "        text-align: right;\n",
       "    }\n",
       "</style>\n",
       "<table border=\"1\" class=\"dataframe\">\n",
       "  <thead>\n",
       "    <tr style=\"text-align: right;\">\n",
       "      <th></th>\n",
       "      <th>LongestShell</th>\n",
       "      <th>Diameter</th>\n",
       "      <th>Height</th>\n",
       "      <th>WholeWeight</th>\n",
       "      <th>ShuckedWeight</th>\n",
       "      <th>VisceraWeight</th>\n",
       "      <th>ShellWeight</th>\n",
       "      <th>Rings</th>\n",
       "    </tr>\n",
       "  </thead>\n",
       "  <tbody>\n",
       "    <tr>\n",
       "      <th>LongestShell</th>\n",
       "      <td>1.000000</td>\n",
       "      <td>0.986304</td>\n",
       "      <td>0.889075</td>\n",
       "      <td>0.924663</td>\n",
       "      <td>0.897557</td>\n",
       "      <td>0.902196</td>\n",
       "      <td>0.896112</td>\n",
       "      <td>0.551652</td>\n",
       "    </tr>\n",
       "    <tr>\n",
       "      <th>Diameter</th>\n",
       "      <td>0.986304</td>\n",
       "      <td>1.000000</td>\n",
       "      <td>0.894767</td>\n",
       "      <td>0.924385</td>\n",
       "      <td>0.891943</td>\n",
       "      <td>0.897871</td>\n",
       "      <td>0.904189</td>\n",
       "      <td>0.570303</td>\n",
       "    </tr>\n",
       "    <tr>\n",
       "      <th>Height</th>\n",
       "      <td>0.889075</td>\n",
       "      <td>0.894767</td>\n",
       "      <td>1.000000</td>\n",
       "      <td>0.881605</td>\n",
       "      <td>0.829801</td>\n",
       "      <td>0.858467</td>\n",
       "      <td>0.883934</td>\n",
       "      <td>0.601760</td>\n",
       "    </tr>\n",
       "    <tr>\n",
       "      <th>WholeWeight</th>\n",
       "      <td>0.924663</td>\n",
       "      <td>0.924385</td>\n",
       "      <td>0.881605</td>\n",
       "      <td>1.000000</td>\n",
       "      <td>0.969791</td>\n",
       "      <td>0.966131</td>\n",
       "      <td>0.955726</td>\n",
       "      <td>0.536939</td>\n",
       "    </tr>\n",
       "    <tr>\n",
       "      <th>ShuckedWeight</th>\n",
       "      <td>0.897557</td>\n",
       "      <td>0.891943</td>\n",
       "      <td>0.829801</td>\n",
       "      <td>0.969791</td>\n",
       "      <td>1.000000</td>\n",
       "      <td>0.930780</td>\n",
       "      <td>0.881567</td>\n",
       "      <td>0.417414</td>\n",
       "    </tr>\n",
       "    <tr>\n",
       "      <th>VisceraWeight</th>\n",
       "      <td>0.902196</td>\n",
       "      <td>0.897871</td>\n",
       "      <td>0.858467</td>\n",
       "      <td>0.966131</td>\n",
       "      <td>0.930780</td>\n",
       "      <td>1.000000</td>\n",
       "      <td>0.907792</td>\n",
       "      <td>0.499060</td>\n",
       "    </tr>\n",
       "    <tr>\n",
       "      <th>ShellWeight</th>\n",
       "      <td>0.896112</td>\n",
       "      <td>0.904189</td>\n",
       "      <td>0.883934</td>\n",
       "      <td>0.955726</td>\n",
       "      <td>0.881567</td>\n",
       "      <td>0.907792</td>\n",
       "      <td>1.000000</td>\n",
       "      <td>0.625661</td>\n",
       "    </tr>\n",
       "    <tr>\n",
       "      <th>Rings</th>\n",
       "      <td>0.551652</td>\n",
       "      <td>0.570303</td>\n",
       "      <td>0.601760</td>\n",
       "      <td>0.536939</td>\n",
       "      <td>0.417414</td>\n",
       "      <td>0.499060</td>\n",
       "      <td>0.625661</td>\n",
       "      <td>1.000000</td>\n",
       "    </tr>\n",
       "  </tbody>\n",
       "</table>\n",
       "</div>"
      ],
      "text/plain": [
       "               LongestShell  Diameter    Height  WholeWeight  ShuckedWeight  \\\n",
       "LongestShell       1.000000  0.986304  0.889075     0.924663       0.897557   \n",
       "Diameter           0.986304  1.000000  0.894767     0.924385       0.891943   \n",
       "Height             0.889075  0.894767  1.000000     0.881605       0.829801   \n",
       "WholeWeight        0.924663  0.924385  0.881605     1.000000       0.969791   \n",
       "ShuckedWeight      0.897557  0.891943  0.829801     0.969791       1.000000   \n",
       "VisceraWeight      0.902196  0.897871  0.858467     0.966131       0.930780   \n",
       "ShellWeight        0.896112  0.904189  0.883934     0.955726       0.881567   \n",
       "Rings              0.551652  0.570303  0.601760     0.536939       0.417414   \n",
       "\n",
       "               VisceraWeight  ShellWeight     Rings  \n",
       "LongestShell        0.902196     0.896112  0.551652  \n",
       "Diameter            0.897871     0.904189  0.570303  \n",
       "Height              0.858467     0.883934  0.601760  \n",
       "WholeWeight         0.966131     0.955726  0.536939  \n",
       "ShuckedWeight       0.930780     0.881567  0.417414  \n",
       "VisceraWeight       1.000000     0.907792  0.499060  \n",
       "ShellWeight         0.907792     1.000000  0.625661  \n",
       "Rings               0.499060     0.625661  1.000000  "
      ]
     },
     "execution_count": 93,
     "metadata": {},
     "output_type": "execute_result"
    }
   ],
   "source": [
    "X_train.corr()"
   ]
  },
  {
   "cell_type": "code",
   "execution_count": 71,
   "id": "9a6f31f7",
   "metadata": {},
   "outputs": [
    {
     "data": {
      "text/plain": [
       "<AxesSubplot:>"
      ]
     },
     "execution_count": 71,
     "metadata": {},
     "output_type": "execute_result"
    },
    {
     "data": {
      "image/png": "[encoded data removed]",
      "text/plain": [
       "<Figure size 432x288 with 2 Axes>"
      ]
     },
     "metadata": {
      "needs_background": "light"
     },
     "output_type": "display_data"
    }
   ],
   "source": [
    "#viewing the heatmap\n",
    "sns.heatmap(X_train.corr(), annot = True)"
   ]
  },
  {
   "cell_type": "markdown",
   "id": "35d2584b",
   "metadata": {},
   "source": [
    "##### We have a lot of highly correlated features, so we will drop one feature and check the accuracy with k-fold cross validation"
   ]
  },
  {
   "cell_type": "code",
   "execution_count": 72,
   "id": "1154c36d",
   "metadata": {},
   "outputs": [],
   "source": [
    "max_corr_features = [\"LongestShell\", \"Diameter\", \"WholeWeight\", \"ShuckedWeight\", \"VisceraWeight\", \"ShellWeight\"]"
   ]
  },
  {
   "cell_type": "code",
   "execution_count": 73,
   "id": "8995e97f",
   "metadata": {},
   "outputs": [],
   "source": [
    "data_dropped = {}"
   ]
  },
  {
   "cell_type": "code",
   "execution_count": 74,
   "id": "3ffc5972",
   "metadata": {},
   "outputs": [
    {
     "data": {
      "text/plain": [
       "True"
      ]
     },
     "execution_count": 74,
     "metadata": {},
     "output_type": "execute_result"
    }
   ],
   "source": [
    "for i in range(len(max_corr_features)):\n",
    "    data_dropped[\"data_dropped_\" + str(i+1)] = X_train.drop(columns = [max_corr_features[i]])\n",
    "len(data_dropped) == len(max_corr_features)"
   ]
  },
  {
   "cell_type": "code",
   "execution_count": 75,
   "id": "e8c47c5c",
   "metadata": {},
   "outputs": [],
   "source": [
    "from sklearn.model_selection import cross_validate\n",
    "def cross_validation(model, X, y, cv = 10):\n",
    "    scoring = ['accuracy', 'precision', 'recall', 'f1']\n",
    "    results = cross_validate(estimator = model, X = X, y = y, cv = cv, scoring = scoring, return_train_score = True)\n",
    "    return {\n",
    "        \"Mean training accuracy\" : results['train_accuracy'].mean(),\n",
    "        \"Mean training Precision\" : results['train_precision'].mean(),\n",
    "        \"Mean training recall\" : results['train_recall'].mean(),\n",
    "        \"Mean training F1 Score\" : results['train_f1'].mean(),\n",
    "        \"Mean Validation accuracy\" : results['test_accuracy'].mean(),\n",
    "        \"Mean Validation Precision\" : results['test_precision'].mean(),\n",
    "        \"Mean Validation recall\" : results['test_recall'].mean(),\n",
    "        \"Mean Validation F1 Score\" : results['test_f1'].mean()\n",
    "    }"
   ]
  },
  {
   "cell_type": "code",
   "execution_count": 89,
   "id": "3e0ad29f",
   "metadata": {},
   "outputs": [],
   "source": [
    "knn = KNeighborsClassifier(n_neighbors = 3)"
   ]
  },
  {
   "cell_type": "markdown",
   "id": "5d5d3d09",
   "metadata": {},
   "source": [
    "### Feature Scaling and Cross Validating the training data"
   ]
  },
  {
   "cell_type": "code",
   "execution_count": 90,
   "id": "fe4e6646",
   "metadata": {},
   "outputs": [],
   "source": [
    "results = {}\n",
    "for i in data_dropped:\n",
    "    X = data_dropped[i]\n",
    "    scaler = MinMaxScaler()\n",
    "    X_norm = scaler.fit_transform(X)\n",
    "    results[i] = cross_validation(knn, X_norm, y_train, 10)"
   ]
  },
  {
   "cell_type": "code",
   "execution_count": 91,
   "id": "0358b0a2",
   "metadata": {},
   "outputs": [
    {
     "data": {
      "text/plain": [
       "{'data_dropped_1': {'Mean training accuracy': 0.8850976906623511,\n",
       "  'Mean training Precision': 0.8278468026847443,\n",
       "  'Mean training recall': 0.8053459119496855,\n",
       "  'Mean training F1 Score': 0.8164293533228107,\n",
       "  'Mean Validation accuracy': 0.7979649655912057,\n",
       "  'Mean Validation Precision': 0.6922603451841914,\n",
       "  'Mean Validation recall': 0.6575471698113208,\n",
       "  'Mean Validation F1 Score': 0.6731806977632238},\n",
       " 'data_dropped_2': {'Mean training accuracy': 0.8833018034433294,\n",
       "  'Mean training Precision': 0.8261243689332046,\n",
       "  'Mean training recall': 0.800733752620545,\n",
       "  'Mean training F1 Score': 0.8132160024281381,\n",
       "  'Mean Validation accuracy': 0.8090347662883189,\n",
       "  'Mean Validation Precision': 0.7069034196527213,\n",
       "  'Mean Validation recall': 0.6858490566037736,\n",
       "  'Mean Validation F1 Score': 0.6951453459390251},\n",
       " 'data_dropped_3': {'Mean training accuracy': 0.8840001739122354,\n",
       "  'Mean training Precision': 0.8286760843253396,\n",
       "  'Mean training recall': 0.79979035639413,\n",
       "  'Mean training F1 Score': 0.8139576128388862,\n",
       "  'Mean Validation accuracy': 0.8051505943337205,\n",
       "  'Mean Validation Precision': 0.7006404655748637,\n",
       "  'Mean Validation recall': 0.6773584905660377,\n",
       "  'Mean Validation F1 Score': 0.6877580834145542},\n",
       " 'data_dropped_4': {'Mean training accuracy': 0.8895208474526394,\n",
       "  'Mean training Precision': 0.8336862448636717,\n",
       "  'Mean training recall': 0.8142557651991614,\n",
       "  'Mean training F1 Score': 0.8238427486618317,\n",
       "  'Mean Validation accuracy': 0.8132335329341318,\n",
       "  'Mean Validation Precision': 0.7134676087147057,\n",
       "  'Mean Validation recall': 0.6915094339622642,\n",
       "  'Mean Validation F1 Score': 0.701391625929115},\n",
       " 'data_dropped_5': {'Mean training accuracy': 0.8880243282418645,\n",
       "  'Mean training Precision': 0.8347975871744998,\n",
       "  'Mean training recall': 0.8067085953878406,\n",
       "  'Mean training F1 Score': 0.8205015604069613,\n",
       "  'Mean Validation accuracy': 0.8075431227098043,\n",
       "  'Mean Validation Precision': 0.7060916318421382,\n",
       "  'Mean Validation recall': 0.680188679245283,\n",
       "  'Mean Validation F1 Score': 0.691967403168919},\n",
       " 'data_dropped_6': {'Mean training accuracy': 0.8847318333071138,\n",
       "  'Mean training Precision': 0.828574798492123,\n",
       "  'Mean training recall': 0.8028301886792452,\n",
       "  'Mean training F1 Score': 0.8154823199593423,\n",
       "  'Mean Validation accuracy': 0.8039538832782197,\n",
       "  'Mean Validation Precision': 0.6940751668267098,\n",
       "  'Mean Validation recall': 0.6877358490566038,\n",
       "  'Mean Validation F1 Score': 0.6901430949896012}}"
      ]
     },
     "execution_count": 91,
     "metadata": {},
     "output_type": "execute_result"
    }
   ],
   "source": [
    "results"
   ]
  },
  {
   "cell_type": "markdown",
   "id": "1e6eebfb",
   "metadata": {},
   "source": [
    "##### Since, data_dropped_4 has a mean training accuracy of 0.889 and mean validation accuracy of 0.813, we will drop \"ShuckedWeight\" from the dataframe to decrease multicorrelation"
   ]
  },
  {
   "cell_type": "code",
   "execution_count": 94,
   "id": "d596df90",
   "metadata": {},
   "outputs": [],
   "source": [
    "X_train, X_test = X_train.drop(columns = [\"ShuckedWeight\"]), X_test.drop(columns = [\"ShuckedWeight\"])"
   ]
  },
  {
   "cell_type": "markdown",
   "id": "30498446",
   "metadata": {},
   "source": [
    "### Finally, training and testing the model"
   ]
  },
  {
   "cell_type": "code",
   "execution_count": 95,
   "id": "e6165278",
   "metadata": {},
   "outputs": [],
   "source": [
    "# Normalizing \n",
    "scaler = MinMaxScaler()\n",
    "X_train_norm, X_test_norm = scaler.fit_transform(X_train), scaler.fit_transform(X_test) "
   ]
  },
  {
   "cell_type": "code",
   "execution_count": 96,
   "id": "6d4c3b0b",
   "metadata": {},
   "outputs": [
    {
     "data": {
      "text/plain": [
       "KNeighborsClassifier(n_neighbors=3)"
      ]
     },
     "execution_count": 96,
     "metadata": {},
     "output_type": "execute_result"
    }
   ],
   "source": [
    "knn.fit(X_train_norm, y_train)"
   ]
  },
  {
   "cell_type": "code",
   "execution_count": 97,
   "id": "9ea9ca51",
   "metadata": {},
   "outputs": [
    {
     "name": "stdout",
     "output_type": "stream",
     "text": [
      "[0 0 1 0 0 0 0 0 0 1 0 1 0 0 1 0 0 0 0 0 1 0 0 0 1 0 0 0 0 1 0 0 0 0 1 0 0\n",
      " 1 0 0 0 1 0 0 0 0 0 0 0 0 0 1 1 0 0 0 0 0 0 0 1 0 1 1 0 1 0 0 0 0 0 0 0 0\n",
      " 0 1 0 0 1 1 0 0 0 0 0 0 0 1 0 0 1 0 0 1 0 0 0 0 0 1 0 0 0 0 0 0 0 0 0 0 0\n",
      " 0 0 1 0 0 0 0 0 0 0 0 0 0 1 1 1 0 0 0 0 0 0 0 0 0 0 0 0 0 1 0 0 1 0 0 0 0\n",
      " 0 0 0 0 0 0 0 0 0 1 0 0 0 0 0 0 0 0 0 0 0 1 1 0 0 0 0 1 0 0 0 0 0 0 0 0 1\n",
      " 0 0 1 0 0 0 1 0 0 0 0 0 0 0 0 0 0 0 0 0 0 0 0 0 0 0 0 0 0 0 0 1 0 0 0 0 0\n",
      " 0 1 0 0 0 0 0 0 0 1 0 0 0 0 0 0 1 0 0 0 0 1 1 0 0 0 0 0 0 1 0 0 0 0 0 0 0\n",
      " 0 0 0 1 0 0 0 0 1 0 0 0 0 0 0 0 0 0 1 1 0 0 0 0 0 1 1 0 0 0 1 0 0 0 0 1 0\n",
      " 0 0 0 0 0 0 0 0 0 0 0 0 0 0 0 1 1 1 0 1 0 1 0 0 0 0 0 0 1 0 0 0 0 0 0 0 0\n",
      " 0 1 0 0 0 1 0 0 1 0 0 0 0 0 1 0 0 0 0 0 0 0 1 0 0 0 0 0 1 0 0 0 0 0 0 0 0\n",
      " 0 1 1 0 0 1 0 0 0 0 0 0 0 0 0 0 0 0 0 0 0 0 0 0 0 1 0 0 0 0 0 0 0 0 0 1 0\n",
      " 1 1 0 0 0 0 0 1 0 0 0 0 0 0 0 0 0 0 0 0 0 0 0 1 0 1 1 0 0 1 0 0 1 0 0 0 0\n",
      " 0 0 0 1 1 1 1 0 0 0 0 0 0 0 0 0 0 0 0 0 0 1 0 0 0 0 0 1 0 1 0 0 0 1 0 0 0\n",
      " 0 0 0 0 1 0 1 0 0 0 0 0 0 0 1 0 0 0 1 0 0 1 0 0 0 0 0 0 0 0 0 0 0 0 0 0 0\n",
      " 1 0 0 0 0 0 0 0 0 0 0 1 0 1 0 0 1 0 0 0 0 0 0 0 0 0 0 0 0 1 0 0 0 0 0 0 1\n",
      " 0 0 0 0 0 1 1 0 0 1 0 0 1 1 0 0 0 1 0 0 0 0 0 0 0 0 1 0 0 1 0 0 1 1 0 0 1\n",
      " 0 0 0 0 0 0 0 0 0 0 0 0 0 0 0 1 0 0 0 0 0 0 0 0 0 0 1 0 1 0 0 0 0 1 0 0 0\n",
      " 0 0 0 0 0 0 1 1 0 0 1 1 0 0 0 0 0 0 0 0 0 1 0 1 0 0 0 0 1 0 0 1 1 0 0 1 0\n",
      " 0 0 0 0 1 0 1 0 1 0 0 0 0 0 0 0 0 0 0 0 0 0 0 0 1 1 0 1 1 1 0 0 0 0 0 0 0\n",
      " 0 0 0 0 0 0 0 0 0 0 0 1 0 0 0 0 0 0 0 0 1 1 0 0 0 0 0 0 0 0 0 0 0 0 0 0 0\n",
      " 0 0 0 0 0 0 0 1 0 0 0 0 0 0 0 0 0 0 0 1 0 1 0 0 0 0 0 1 0 0 0 0 1 0 0 0 0\n",
      " 0 0 0 0 0 0 0 0 0 0 0 0 0 0 0 0 0 0 0 0 0 0 0 0 0 0 0 0 1 0 0 0 0 0 0 0 0\n",
      " 1 0 0 0 0 0 0 0 0 0 1 1 0 0 1 0 0 0 0 0 1 0]\n",
      "Accuracy: 0.7535885167464115\n",
      "Precision: 0.7676056338028169\n",
      "Recall: 0.38652482269503546\n",
      "F1-score: 0.5141509433962264\n"
     ]
    }
   ],
   "source": [
    "y_pred = knn.predict(X_test_norm)\n",
    "print(y_pred)\n",
    "print(\"Accuracy:\", accuracy_score(y_test, y_pred))\n",
    "print(\"Precision:\", precision_score(y_test, y_pred))\n",
    "print(\"Recall:\", recall_score(y_test, y_pred))\n",
    "print(\"F1-score:\", f1_score(y_test, y_pred))"
   ]
  },
  {
   "cell_type": "markdown",
   "id": "a2a782a3",
   "metadata": {},
   "source": [
    "#### So, we get a 75% accuracy !! 😢"
   ]
  }
 ],
 "metadata": {
  "kernelspec": {
   "display_name": "Python 3 (ipykernel)",
   "language": "python",
   "name": "python3"
  },
  "language_info": {
   "codemirror_mode": {
    "name": "ipython",
    "version": 3
   },
   "file_extension": ".py",
   "mimetype": "text/x-python",
   "name": "python",
   "nbconvert_exporter": "python",
   "pygments_lexer": "ipython3",
   "version": "3.9.1"
  }
 },
 "nbformat": 4,
 "nbformat_minor": 5
}
